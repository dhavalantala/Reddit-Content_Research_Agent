{
 "cells": [
  {
   "cell_type": "code",
   "execution_count": 1,
   "id": "462dab04",
   "metadata": {},
   "outputs": [],
   "source": [
    "import getpass\n",
    "import os\n",
    "\n",
    "GOOGLE_GEMINI_API_KEY = os.environ.get(\"GOOGLE_GEMINI_API_KEY\")\n",
    "assert GOOGLE_GEMINI_API_KEY is not None"
   ]
  },
  {
   "cell_type": "code",
   "execution_count": 2,
   "id": "11f76717",
   "metadata": {},
   "outputs": [
    {
     "name": "stdout",
     "output_type": "stream",
     "text": [
      "I do not have a name. I am a large language model, trained by Google.\n"
     ]
    }
   ],
   "source": [
    "from langchain_google_genai import ChatGoogleGenerativeAI\n",
    "\n",
    "llm = ChatGoogleGenerativeAI(model=\"gemini-2.5-flash\", api_key = GOOGLE_GEMINI_API_KEY)\n",
    "\n",
    "# Simple text invocation\n",
    "result = llm.invoke(\"What is your name?\")\n",
    "print(result.content)"
   ]
  },
  {
   "cell_type": "code",
   "execution_count": 8,
   "id": "00f665e3",
   "metadata": {},
   "outputs": [],
   "source": [
    "from pydantic import BaseModel, Field"
   ]
  },
  {
   "cell_type": "code",
   "execution_count": 28,
   "id": "7a4a3de4",
   "metadata": {},
   "outputs": [],
   "source": [
    "class LanguageRanking(BaseModel):\n",
    "    name : str = Field(description= \" Programming Language name\")\n",
    "    date_created : str = Field(description='date first created')\n",
    "    rank : int = Field(description= \"Current ranking\")\n",
    "\n",
    "class Language(BaseModel):\n",
    "    rankings : list[LanguageRanking] = Field(description=\"Current ranking of programming languages.\")"
   ]
  },
  {
   "cell_type": "code",
   "execution_count": 29,
   "id": "976d2084",
   "metadata": {},
   "outputs": [],
   "source": [
    "model = llm.with_structured_output(LanguageRanking)"
   ]
  },
  {
   "cell_type": "code",
   "execution_count": 30,
   "id": "8f0029de",
   "metadata": {},
   "outputs": [
    {
     "data": {
      "text/plain": [
       "LanguageRanking(name='Python', date_created='1991', rank=1)"
      ]
     },
     "execution_count": 30,
     "metadata": {},
     "output_type": "execute_result"
    }
   ],
   "source": [
    "result = model.invoke(\"What is programming language django made of\")\n",
    "result"
   ]
  },
  {
   "cell_type": "code",
   "execution_count": 31,
   "id": "9f3c3668",
   "metadata": {},
   "outputs": [
    {
     "data": {
      "text/plain": [
       "{'name': 'Python', 'date_created': '1991', 'rank': 1}"
      ]
     },
     "execution_count": 31,
     "metadata": {},
     "output_type": "execute_result"
    }
   ],
   "source": [
    "result.model_dump()"
   ]
  },
  {
   "cell_type": "code",
   "execution_count": 32,
   "id": "3192ad8b",
   "metadata": {},
   "outputs": [],
   "source": [
    "model = llm.with_structured_output(Language)"
   ]
  },
  {
   "cell_type": "code",
   "execution_count": 33,
   "id": "2df6aac0",
   "metadata": {},
   "outputs": [
    {
     "data": {
      "text/plain": [
       "Language(rankings=[LanguageRanking(name='Python', date_created='1991', rank=1), LanguageRanking(name='Java', date_created='1995', rank=2), LanguageRanking(name='C++', date_created='1985', rank=3), LanguageRanking(name='JavaScript', date_created='1995', rank=4), LanguageRanking(name='C#', date_created='2000', rank=5)])"
      ]
     },
     "execution_count": 33,
     "metadata": {},
     "output_type": "execute_result"
    }
   ],
   "source": [
    "result = model.invoke(\"What is the popularity ranking of programming languages in the world.\")\n",
    "result"
   ]
  },
  {
   "cell_type": "code",
   "execution_count": 34,
   "id": "e03b4c18",
   "metadata": {},
   "outputs": [
    {
     "data": {
      "text/plain": [
       "{'rankings': [{'name': 'Python', 'date_created': '1991', 'rank': 1},\n",
       "  {'name': 'Java', 'date_created': '1995', 'rank': 2},\n",
       "  {'name': 'C++', 'date_created': '1985', 'rank': 3},\n",
       "  {'name': 'JavaScript', 'date_created': '1995', 'rank': 4},\n",
       "  {'name': 'C#', 'date_created': '2000', 'rank': 5}]}"
      ]
     },
     "execution_count": 34,
     "metadata": {},
     "output_type": "execute_result"
    }
   ],
   "source": [
    "result.model_dump()"
   ]
  },
  {
   "cell_type": "code",
   "execution_count": 36,
   "id": "dcf8de18",
   "metadata": {},
   "outputs": [
    {
     "name": "stdout",
     "output_type": "stream",
     "text": [
      "Python 1991 1\n",
      "Java 1995 2\n",
      "C++ 1985 3\n",
      "JavaScript 1995 4\n",
      "C# 2000 5\n"
     ]
    }
   ],
   "source": [
    "for lang in result.rankings:\n",
    "    print(lang.name, lang.date_created, lang.rank)"
   ]
  },
  {
   "cell_type": "code",
   "execution_count": null,
   "id": "e8f74227",
   "metadata": {},
   "outputs": [],
   "source": []
  }
 ],
 "metadata": {
  "kernelspec": {
   "display_name": "reddit_env",
   "language": "python",
   "name": "python3"
  },
  "language_info": {
   "codemirror_mode": {
    "name": "ipython",
    "version": 3
   },
   "file_extension": ".py",
   "mimetype": "text/x-python",
   "name": "python",
   "nbconvert_exporter": "python",
   "pygments_lexer": "ipython3",
   "version": "3.11.9"
  }
 },
 "nbformat": 4,
 "nbformat_minor": 5
}
