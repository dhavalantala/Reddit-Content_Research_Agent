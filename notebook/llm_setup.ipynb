{
 "cells": [
  {
   "cell_type": "code",
   "execution_count": null,
   "id": "462dab04",
   "metadata": {},
   "outputs": [],
   "source": [
    "import getpass\n",
    "import os\n",
    "\n",
    "GOOGLE_GEMINI_API_KEY = os.environ.get(\"GOOGLE_GEMINI_API_KEY\")\n",
    "assert GOOGLE_GEMINI_API_KEY is not None"
   ]
  },
  {
   "cell_type": "code",
   "execution_count": null,
   "id": "11f76717",
   "metadata": {},
   "outputs": [],
   "source": [
    "from langchain_google_genai import ChatGoogleGenerativeAI\n",
    "\n",
    "llm = ChatGoogleGenerativeAI(model=\"gemini-2.5-flash\", api_key = GOOGLE_GEMINI_API_KEY)\n",
    "\n",
    "# Simple text invocation\n",
    "result = llm.invoke(\"What is your name?\")\n",
    "print(result.content)"
   ]
  },
  {
   "cell_type": "code",
   "execution_count": null,
   "id": "00f665e3",
   "metadata": {},
   "outputs": [],
   "source": [
    "from pydantic import BaseModel, Field"
   ]
  },
  {
   "cell_type": "code",
   "execution_count": null,
   "id": "7a4a3de4",
   "metadata": {},
   "outputs": [],
   "source": [
    "class LanguageRanking(BaseModel):\n",
    "    name : str = Field(description= \" Programming Language name\")\n",
    "    date_created : str = Field(description='date first created')\n",
    "    rank : int = Field(description= \"Current ranking\")\n",
    "\n",
    "class Language(BaseModel):\n",
    "    rankings : list[LanguageRanking] = Field(description=\"Current ranking of programming languages.\")"
   ]
  },
  {
   "cell_type": "code",
   "execution_count": null,
   "id": "976d2084",
   "metadata": {},
   "outputs": [],
   "source": [
    "model = llm.with_structured_output(LanguageRanking)"
   ]
  },
  {
   "cell_type": "code",
   "execution_count": null,
   "id": "8f0029de",
   "metadata": {},
   "outputs": [],
   "source": [
    "result = model.invoke(\"What is programming language django made of\")\n",
    "result"
   ]
  },
  {
   "cell_type": "code",
   "execution_count": null,
   "id": "9f3c3668",
   "metadata": {},
   "outputs": [],
   "source": [
    "result.model_dump()"
   ]
  },
  {
   "cell_type": "code",
   "execution_count": null,
   "id": "3192ad8b",
   "metadata": {},
   "outputs": [],
   "source": [
    "model = llm.with_structured_output(Language)"
   ]
  },
  {
   "cell_type": "code",
   "execution_count": null,
   "id": "2df6aac0",
   "metadata": {},
   "outputs": [],
   "source": [
    "result = model.invoke(\"What is the popularity ranking of programming languages in the world.\")\n",
    "result"
   ]
  },
  {
   "cell_type": "code",
   "execution_count": null,
   "id": "e03b4c18",
   "metadata": {},
   "outputs": [],
   "source": [
    "result.model_dump()"
   ]
  },
  {
   "cell_type": "code",
   "execution_count": null,
   "id": "dcf8de18",
   "metadata": {},
   "outputs": [],
   "source": [
    "for lang in result.rankings:\n",
    "    print(lang.name, lang.date_created, lang.rank)"
   ]
  },
  {
   "cell_type": "code",
   "execution_count": null,
   "id": "e8f74227",
   "metadata": {},
   "outputs": [],
   "source": []
  }
 ],
 "metadata": {
  "kernelspec": {
   "display_name": "reddit_env",
   "language": "python",
   "name": "python3"
  },
  "language_info": {
   "codemirror_mode": {
    "name": "ipython",
    "version": 3
   },
   "file_extension": ".py",
   "mimetype": "text/x-python",
   "name": "python",
   "nbconvert_exporter": "python",
   "pygments_lexer": "ipython3",
   "version": "3.11.9"
  }
 },
 "nbformat": 4,
 "nbformat_minor": 5
}
