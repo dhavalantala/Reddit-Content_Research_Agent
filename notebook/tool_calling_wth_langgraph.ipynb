{
 "cells": [
  {
   "cell_type": "code",
   "execution_count": null,
   "id": "41554d8c",
   "metadata": {},
   "outputs": [],
   "source": [
    "import os\n",
    "import io\n",
    "import contextlib\n",
    "from dotenv import load_dotenv\n",
    "\n",
    "load_dotenv()"
   ]
  },
  {
   "cell_type": "code",
   "execution_count": null,
   "id": "d1d803e0",
   "metadata": {},
   "outputs": [],
   "source": [
    "GOOGLE_GEMINI_API_KEY = os.environ.get(\"GOOGLE_GEMINI_API_KEY\")\n",
    "assert GOOGLE_GEMINI_API_KEY is not None"
   ]
  },
  {
   "cell_type": "code",
   "execution_count": null,
   "id": "b914e607",
   "metadata": {},
   "outputs": [],
   "source": [
    "BRIGHT_DATA_SERP_API_KEY = os.environ.get(\"BRIGHT_DATA_SERP_API_KEY\")\n",
    "assert BRIGHT_DATA_SERP_API_KEY is not None"
   ]
  },
  {
   "cell_type": "code",
   "execution_count": null,
   "id": "cdb2dc5f",
   "metadata": {},
   "outputs": [],
   "source": [
    "from langchain_brightdata import BrightDataSERP\n",
    "\n",
    "serp_tool = BrightDataSERP(\n",
    "    bright_data_api_key=BRIGHT_DATA_SERP_API_KEY,\n",
    "    search_engine = 'google',\n",
    "    country = 'in',\n",
    "    parse_results = True\n",
    ")"
   ]
  },
  {
   "cell_type": "code",
   "execution_count": null,
   "id": "2dbe4c3c",
   "metadata": {},
   "outputs": [],
   "source": [
    "from langchain_google_genai import ChatGoogleGenerativeAI\n",
    "\n",
    "model = ChatGoogleGenerativeAI(model=\"gemini-2.5-flash\", api_key = GOOGLE_GEMINI_API_KEY)\n",
    "\n",
    "# Simple text invocation\n",
    "result = model.invoke(\"What is your name?\")\n",
    "print(result.content)"
   ]
  },
  {
   "cell_type": "code",
   "execution_count": null,
   "id": "2970b264",
   "metadata": {},
   "outputs": [],
   "source": [
    "def get_weather(city:str) -> str:\n",
    "    \"\"\"Get weather for a given city.\"\"\"\n",
    "    return f\"It's always sunny in {city}!\"\n",
    "\n",
    "# get_weather.name"
   ]
  },
  {
   "cell_type": "code",
   "execution_count": null,
   "id": "f1d615d4",
   "metadata": {},
   "outputs": [],
   "source": [
    "from langchain.agents import create_agent\n",
    "\n",
    "\n",
    "weather_agent  = create_agent(\n",
    "    model = model,\n",
    "    tools = [get_weather],\n",
    "    system_prompt = \"You are a helpful assistant\"\n",
    ")\n",
    "\n",
    "result = weather_agent.invoke(\n",
    "    {\"messages\" : [{\"role\" : \"user\", \"content\" : \"What is the weather in mannheim?\"}]}\n",
    ")"
   ]
  },
  {
   "cell_type": "code",
   "execution_count": null,
   "id": "fdc97e5e",
   "metadata": {},
   "outputs": [],
   "source": [
    "result[\"messages\"][-1].content"
   ]
  },
  {
   "cell_type": "code",
   "execution_count": null,
   "id": "a0260733",
   "metadata": {},
   "outputs": [],
   "source": [
    "serp_agent  = create_agent(\n",
    "    model = model,\n",
    "    tools = [serp_tool],\n",
    "    system_prompt = \"You are a helpful assistant that can search the internet\"\n",
    ")\n",
    "\n",
    "result = serp_agent.invoke(\n",
    "    {\"messages\" : [{\"role\" : \"user\", \"content\" : \"What is the weather in mannheim?\"}]}\n",
    ")\n",
    "result[\"messages\"][-1].content"
   ]
  },
  {
   "cell_type": "code",
   "execution_count": null,
   "id": "e3b1fdca",
   "metadata": {},
   "outputs": [],
   "source": [
    "result"
   ]
  },
  {
   "cell_type": "code",
   "execution_count": null,
   "id": "1adcd92a",
   "metadata": {},
   "outputs": [],
   "source": [
    "for chunk in serp_agent.stream(\n",
    "    {\"messages\" : [{\"role\" : \"user\", \"content\" : \"What is the weather in mannheim?\"}]}\n",
    "):\n",
    "    agent_result = chunk.get('agent')\n",
    "    if agent_result:\n",
    "        agent_msgs = agent_result.get(\"messages\")\n",
    "\n",
    "        if not agent_msgs:\n",
    "            continue\n",
    "        txt_response = agent_msgs[-1].content\n",
    "\n",
    "        if txt_response:\n",
    "            print(txt_response)"
   ]
  },
  {
   "cell_type": "code",
   "execution_count": null,
   "id": "56e73ac6",
   "metadata": {},
   "outputs": [],
   "source": []
  }
 ],
 "metadata": {
  "kernelspec": {
   "display_name": "reddit_env",
   "language": "python",
   "name": "python3"
  },
  "language_info": {
   "codemirror_mode": {
    "name": "ipython",
    "version": 3
   },
   "file_extension": ".py",
   "mimetype": "text/x-python",
   "name": "python",
   "nbconvert_exporter": "python",
   "pygments_lexer": "ipython3",
   "version": "3.11.9"
  }
 },
 "nbformat": 4,
 "nbformat_minor": 5
}
