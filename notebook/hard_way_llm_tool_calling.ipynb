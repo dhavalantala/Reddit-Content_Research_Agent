{
 "cells": [
  {
   "cell_type": "code",
   "execution_count": null,
   "id": "d5e998a7",
   "metadata": {},
   "outputs": [],
   "source": [
    "import os\n",
    "import io\n",
    "import contextlib\n",
    "from dotenv import load_dotenv\n",
    "\n",
    "load_dotenv()"
   ]
  },
  {
   "cell_type": "code",
   "execution_count": null,
   "id": "5c6de4b0",
   "metadata": {},
   "outputs": [],
   "source": [
    "GOOGLE_GEMINI_API_KEY = os.environ.get(\"GOOGLE_GEMINI_API_KEY\")\n",
    "assert GOOGLE_GEMINI_API_KEY is not None"
   ]
  },
  {
   "cell_type": "code",
   "execution_count": null,
   "id": "1db7bf58",
   "metadata": {},
   "outputs": [],
   "source": [
    "BRIGHT_DATA_SERP_API_KEY = os.environ.get(\"BRIGHT_DATA_SERP_API_KEY\")\n",
    "assert BRIGHT_DATA_SERP_API_KEY is not None"
   ]
  },
  {
   "cell_type": "code",
   "execution_count": null,
   "id": "b3b9a588",
   "metadata": {},
   "outputs": [],
   "source": [
    "from langchain_brightdata import BrightDataSERP\n",
    "\n",
    "serp_tool = BrightDataSERP(\n",
    "    bright_data_api_key=BRIGHT_DATA_SERP_API_KEY,\n",
    "    search_engine = 'google',\n",
    "    country = 'in',\n",
    "    parse_results = True\n",
    ")\n",
    "\n",
    "# print(serp_tool.invoke(\"What was python made?\"))"
   ]
  },
  {
   "cell_type": "code",
   "execution_count": null,
   "id": "2485a42d",
   "metadata": {},
   "outputs": [],
   "source": [
    "serp_tool.name"
   ]
  },
  {
   "cell_type": "code",
   "execution_count": null,
   "id": "9782bc03",
   "metadata": {},
   "outputs": [],
   "source": [
    "from langchain_google_genai import ChatGoogleGenerativeAI\n",
    "\n",
    "llm = ChatGoogleGenerativeAI(model=\"gemini-2.5-flash\", api_key = GOOGLE_GEMINI_API_KEY)\n",
    "\n",
    "# Simple text invocation\n",
    "result = llm.invoke(\"What is your name?\")\n",
    "print(result.content)"
   ]
  },
  {
   "cell_type": "code",
   "execution_count": null,
   "id": "f76bef01",
   "metadata": {},
   "outputs": [],
   "source": [
    "tools = [serp_tool]"
   ]
  },
  {
   "cell_type": "code",
   "execution_count": null,
   "id": "7514684a",
   "metadata": {},
   "outputs": [],
   "source": [
    "tool_mapping = {x.name : x for x in tools}"
   ]
  },
  {
   "cell_type": "code",
   "execution_count": null,
   "id": "7a4c2e77",
   "metadata": {},
   "outputs": [],
   "source": [
    "llm_with_tools = llm.bind_tools(tools)"
   ]
  },
  {
   "cell_type": "code",
   "execution_count": null,
   "id": "410ec506",
   "metadata": {},
   "outputs": [],
   "source": [
    "result = llm_with_tools.invoke(\"When was python made?\")"
   ]
  },
  {
   "cell_type": "code",
   "execution_count": null,
   "id": "5ac2246b",
   "metadata": {},
   "outputs": [],
   "source": [
    "result.tool_calls"
   ]
  },
  {
   "cell_type": "code",
   "execution_count": null,
   "id": "b57b1d2f",
   "metadata": {},
   "outputs": [],
   "source": [
    "# for tool_call_val in result.tool_calls:\n",
    "\n",
    "#     func_name = tool_call_val.get('name')\n",
    "#     func_args = tool_call_val.get('args')\n",
    "#     _tool = tool_mapping.get(func_name)\n",
    "#     _id = tool_call_val.get('id')\n",
    "#     print(func_name, func_args)\n",
    "#     tool_result = _tool.invoke(func_args)\n",
    "#     print(tool_result)"
   ]
  },
  {
   "cell_type": "code",
   "execution_count": null,
   "id": "f6aae21a",
   "metadata": {},
   "outputs": [],
   "source": []
  }
 ],
 "metadata": {
  "kernelspec": {
   "display_name": "reddit_env",
   "language": "python",
   "name": "python3"
  },
  "language_info": {
   "codemirror_mode": {
    "name": "ipython",
    "version": 3
   },
   "file_extension": ".py",
   "mimetype": "text/x-python",
   "name": "python",
   "nbconvert_exporter": "python",
   "pygments_lexer": "ipython3",
   "version": "3.11.9"
  }
 },
 "nbformat": 4,
 "nbformat_minor": 5
}
