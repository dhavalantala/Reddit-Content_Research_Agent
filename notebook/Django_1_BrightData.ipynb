{
 "cells": [
  {
   "cell_type": "code",
   "execution_count": null,
   "id": "1bd77c51",
   "metadata": {},
   "outputs": [],
   "source": [
    "import setup \n",
    "\n",
    "setup.init()"
   ]
  },
  {
   "cell_type": "code",
   "execution_count": null,
   "id": "f37d35bd",
   "metadata": {},
   "outputs": [],
   "source": [
    "import helpers.bd"
   ]
  },
  {
   "cell_type": "code",
   "execution_count": null,
   "id": "85b35276",
   "metadata": {},
   "outputs": [],
   "source": [
    "response = helpers.bd.perform_scrape_snapshot(\"https://www.reddit.com/r/Python/\", num_of_posts=2, use_webhook = True)"
   ]
  },
  {
   "cell_type": "code",
   "execution_count": null,
   "id": "e4231b0e",
   "metadata": {},
   "outputs": [],
   "source": [
    "response"
   ]
  },
  {
   "cell_type": "code",
   "execution_count": null,
   "id": "55cd84fb",
   "metadata": {},
   "outputs": [],
   "source": [
    "is_ready=helpers.bd.get_snapshot_progress(response)\n",
    "is_ready"
   ]
  },
  {
   "cell_type": "code",
   "execution_count": null,
   "id": "66c47176",
   "metadata": {},
   "outputs": [],
   "source": [
    "import time\n",
    "\n",
    "max_iterations = 10\n",
    "current_iteration = 0\n",
    "\n",
    "while not helpers.bd.get_snapshot_progress(response):\n",
    "    if current_iteration > max_iterations:\n",
    "        print(\"Still not ready try again\")\n",
    "        break\n",
    "    print(\"No ready yet....\")\n",
    "    current_iteration += 1\n",
    "    time.sleep(30)\n",
    "\n",
    "helpers.bd.download_snapshot(response)"
   ]
  },
  {
   "cell_type": "code",
   "execution_count": null,
   "id": "3ae660a3",
   "metadata": {},
   "outputs": [],
   "source": []
  },
  {
   "cell_type": "code",
   "execution_count": null,
   "id": "33f31739",
   "metadata": {},
   "outputs": [],
   "source": []
  }
 ],
 "metadata": {
  "kernelspec": {
   "display_name": "reddit_env",
   "language": "python",
   "name": "python3"
  },
  "language_info": {
   "codemirror_mode": {
    "name": "ipython",
    "version": 3
   },
   "file_extension": ".py",
   "mimetype": "text/x-python",
   "name": "python",
   "nbconvert_exporter": "python",
   "pygments_lexer": "ipython3",
   "version": "3.11.9"
  }
 },
 "nbformat": 4,
 "nbformat_minor": 5
}
