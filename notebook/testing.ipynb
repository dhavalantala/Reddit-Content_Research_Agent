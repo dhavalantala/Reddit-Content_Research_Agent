{
 "cells": [
  {
   "cell_type": "code",
   "execution_count": 1,
   "id": "cfbbcd3a",
   "metadata": {},
   "outputs": [
    {
     "name": "stdout",
     "output_type": "stream",
     "text": [
      "Hiii\n"
     ]
    }
   ],
   "source": [
    "print(\"Hiii\")"
   ]
  },
  {
   "cell_type": "code",
   "execution_count": 2,
   "id": "9f9094f4",
   "metadata": {},
   "outputs": [
    {
     "data": {
      "text/plain": [
       "268"
      ]
     },
     "execution_count": 2,
     "metadata": {},
     "output_type": "execute_result"
    }
   ],
   "source": [
    "(2 * 134)"
   ]
  },
  {
   "cell_type": "code",
   "execution_count": 3,
   "id": "d6b5b845",
   "metadata": {},
   "outputs": [],
   "source": [
    "import os"
   ]
  },
  {
   "cell_type": "code",
   "execution_count": 4,
   "id": "3a99dea9",
   "metadata": {},
   "outputs": [
    {
     "data": {
      "text/plain": [
       "'ABC'"
      ]
     },
     "execution_count": 4,
     "metadata": {},
     "output_type": "execute_result"
    }
   ],
   "source": [
    "os.environ.get(\"API_KEY\")"
   ]
  },
  {
   "cell_type": "code",
   "execution_count": 25,
   "id": "ffb5f10c",
   "metadata": {},
   "outputs": [
    {
     "data": {
      "text/plain": [
       "True"
      ]
     },
     "execution_count": 25,
     "metadata": {},
     "output_type": "execute_result"
    }
   ],
   "source": [
    "import io\n",
    "import contextlib\n",
    "from dotenv import load_dotenv\n",
    "\n",
    "load_dotenv()"
   ]
  },
  {
   "cell_type": "code",
   "execution_count": 26,
   "id": "37b7fac7",
   "metadata": {},
   "outputs": [
    {
     "data": {
      "text/plain": [
       "'ABC'"
      ]
     },
     "execution_count": 26,
     "metadata": {},
     "output_type": "execute_result"
    }
   ],
   "source": [
    "os.environ.get(\"API_KEY\")"
   ]
  },
  {
   "cell_type": "code",
   "execution_count": 7,
   "id": "1d00a989",
   "metadata": {},
   "outputs": [],
   "source": [
    "BRIGHT_DATA_SERP_API_KEY = os.environ.get(\"BRIGHT_DATA_SERP_API_KEY\")\n",
    "\n",
    "assert BRIGHT_DATA_SERP_API_KEY is not None"
   ]
  },
  {
   "cell_type": "code",
   "execution_count": 10,
   "id": "4700da29",
   "metadata": {},
   "outputs": [],
   "source": [
    "from langchain_brightdata import BrightDataSERP\n",
    "\n",
    "serp_tool = BrightDataSERP(\n",
    "    bright_data_api_key=BRIGHT_DATA_SERP_API_KEY,\n",
    "    search_engine = 'google',\n",
    "    country = 'in',\n",
    "    parse_results = True\n",
    ")"
   ]
  },
  {
   "cell_type": "code",
   "execution_count": 27,
   "id": "3ea8a12b",
   "metadata": {},
   "outputs": [],
   "source": [
    "buf = io.StringIO()\n",
    "\n",
    "with contextlib.redirect_stdout(buf):\n",
    "    result_data = serp_tool.invoke(\"reddit Python\")"
   ]
  },
  {
   "cell_type": "code",
   "execution_count": 28,
   "id": "43e6a3d2",
   "metadata": {},
   "outputs": [],
   "source": [
    "import json\n",
    "\n",
    "data = json.loads(result_data)"
   ]
  },
  {
   "cell_type": "code",
   "execution_count": 29,
   "id": "b7da74be",
   "metadata": {},
   "outputs": [
    {
     "data": {
      "text/plain": [
       "dict_keys(['general', 'input', 'navigation', 'organic', 'pagination', 'related', 'people_also_ask'])"
      ]
     },
     "execution_count": 29,
     "metadata": {},
     "output_type": "execute_result"
    }
   ],
   "source": [
    "data.keys()"
   ]
  },
  {
   "cell_type": "code",
   "execution_count": 30,
   "id": "98d14729",
   "metadata": {},
   "outputs": [
    {
     "name": "stdout",
     "output_type": "stream",
     "text": [
      "dict_keys(['link', 'display_link', 'title', 'description', 'extensions', 'rank', 'global_rank'])\n",
      "Python\n",
      "--------------------\n",
      "dict_keys(['link', 'display_link', 'title', 'description', 'rank', 'global_rank'])\n",
      "How to learn python : r/pythontips\n",
      "--------------------\n",
      "dict_keys(['link', 'display_link', 'title', 'description', 'rank', 'global_rank'])\n",
      "How do I possibly answer the question \"What's the point of ...\n",
      "--------------------\n",
      "dict_keys(['link', 'display_link', 'title', 'description', 'rank', 'global_rank'])\n",
      "What's the coolest thing you have built using python\n",
      "--------------------\n",
      "dict_keys(['link', 'display_link', 'title', 'description', 'rank', 'global_rank'])\n",
      "r/pythonhelp\n",
      "--------------------\n",
      "dict_keys(['link', 'display_link', 'title', 'description', 'rank', 'global_rank'])\n",
      "r/PythonLearning\n",
      "--------------------\n",
      "dict_keys(['link', 'display_link', 'title', 'description', 'rank', 'global_rank'])\n",
      "learn programming\n",
      "--------------------\n"
     ]
    }
   ],
   "source": [
    "for result in data.get('organic'):\n",
    "    print(result.keys())\n",
    "    print(result.get('title'))\n",
    "    print(\"-\"*20)"
   ]
  },
  {
   "cell_type": "code",
   "execution_count": null,
   "id": "b578452a",
   "metadata": {},
   "outputs": [],
   "source": []
  }
 ],
 "metadata": {
  "kernelspec": {
   "display_name": "reddit_env",
   "language": "python",
   "name": "python3"
  },
  "language_info": {
   "codemirror_mode": {
    "name": "ipython",
    "version": 3
   },
   "file_extension": ".py",
   "mimetype": "text/x-python",
   "name": "python",
   "nbconvert_exporter": "python",
   "pygments_lexer": "ipython3",
   "version": "3.11.9"
  }
 },
 "nbformat": 4,
 "nbformat_minor": 5
}
