{
 "cells": [
  {
   "cell_type": "code",
   "execution_count": null,
   "id": "e9f79a0f",
   "metadata": {},
   "outputs": [],
   "source": [
    "import setup \n",
    "\n",
    "setup.init()"
   ]
  },
  {
   "cell_type": "code",
   "execution_count": null,
   "id": "e039c27b",
   "metadata": {},
   "outputs": [],
   "source": [
    "import os\n",
    "import io\n",
    "import contextlib\n",
    "from pydantic import BaseModel, Field\n",
    "from dotenv import load_dotenv\n",
    "\n",
    "load_dotenv()"
   ]
  },
  {
   "cell_type": "code",
   "execution_count": null,
   "id": "69498504",
   "metadata": {},
   "outputs": [],
   "source": [
    "GOOGLE_GEMINI_API_KEY = os.environ.get(\"GOOGLE_GEMINI_API_KEY\")\n",
    "assert GOOGLE_GEMINI_API_KEY is not None"
   ]
  },
  {
   "cell_type": "code",
   "execution_count": null,
   "id": "5af237e2",
   "metadata": {},
   "outputs": [],
   "source": [
    "BRIGHT_DATA_SERP_API_KEY = os.environ.get(\"BRIGHT_DATA_SERP_API_KEY\")\n",
    "assert BRIGHT_DATA_SERP_API_KEY is not None"
   ]
  },
  {
   "cell_type": "code",
   "execution_count": null,
   "id": "a08ed05d",
   "metadata": {},
   "outputs": [],
   "source": [
    "from reddit.models import RedditCommunity"
   ]
  },
  {
   "cell_type": "code",
   "execution_count": null,
   "id": "5849f167",
   "metadata": {},
   "outputs": [],
   "source": [
    "from langchain_brightdata import BrightDataSERP\n",
    "\n",
    "serp_tool = BrightDataSERP(\n",
    "    bright_data_api_key=BRIGHT_DATA_SERP_API_KEY,\n",
    "    search_engine = 'google',\n",
    "    country = 'in',\n",
    "    parse_results = True\n",
    ")"
   ]
  },
  {
   "cell_type": "code",
   "execution_count": null,
   "id": "ecafec10",
   "metadata": {},
   "outputs": [],
   "source": [
    "serp_tool.name"
   ]
  },
  {
   "cell_type": "code",
   "execution_count": null,
   "id": "70e4495f",
   "metadata": {},
   "outputs": [],
   "source": [
    "from langchain_google_genai import ChatGoogleGenerativeAI\n",
    "\n",
    "model = ChatGoogleGenerativeAI(model=\"gemini-2.5-flash\", api_key = GOOGLE_GEMINI_API_KEY)"
   ]
  },
  {
   "cell_type": "code",
   "execution_count": null,
   "id": "1e6fc62e",
   "metadata": {},
   "outputs": [],
   "source": [
    "agent_prompt = \"\"\"\n",
    "You are an expert assistant that can search the internet to find the best reddit communities for any given topic.\n",
    "You are also an expert at finding niche communities that discuss the same topic.\"\"\""
   ]
  },
  {
   "cell_type": "code",
   "execution_count": null,
   "id": "ee5376ad",
   "metadata": {},
   "outputs": [],
   "source": [
    "class RedditCommunitySchema(BaseModel):\n",
    "    name : str = Field(description= \"Formatted name for Rabbit\")\n",
    "    url : str = Field(description=\"The complete url of the reddit community\")\n",
    "    subreddit_slug :str = Field(description = \"The slug of the subbreddit such as r/Python or r/web or r/trending\")\n",
    "    member_count : int | None = Field(description = \"Current member count, if available.\")\n",
    "\n",
    "class RedditCommunitiesSchema(BaseModel):\n",
    "    communitites : list[RedditCommunitySchema] = Field(description=\"The list of reddit communites.\")"
   ]
  },
  {
   "cell_type": "code",
   "execution_count": null,
   "id": "17867369",
   "metadata": {},
   "outputs": [],
   "source": [
    "from langchain.agents import create_agent\n",
    "\n",
    "\n",
    "weather_agent  = create_agent(\n",
    "    model = model,\n",
    "    tools = [serp_tool],\n",
    "    system_prompt = agent_prompt,\n",
    "    response_format = RedditCommunitiesSchema\n",
    ")\n",
    "\n",
    "results = weather_agent.invoke(\n",
    "    {\"messages\" : [{\"role\" : \"user\", \"content\" : \"Python, JavaScripts, dJango, web\"}]},\n",
    "    strem_mode = \"values\"\n",
    ")"
   ]
  },
  {
   "cell_type": "code",
   "execution_count": null,
   "id": "88b1c332",
   "metadata": {},
   "outputs": [],
   "source": [
    "results"
   ]
  },
  {
   "cell_type": "code",
   "execution_count": null,
   "id": "087ea8c8",
   "metadata": {},
   "outputs": [],
   "source": [
    "print(results[\"messages\"][-1].content)"
   ]
  },
  {
   "cell_type": "code",
   "execution_count": null,
   "id": "785ec5d8",
   "metadata": {},
   "outputs": [],
   "source": [
    "for subreddit in results['structured_response'].communitites:\n",
    "    print(subreddit.name, subreddit.url, subreddit.subreddit_slug, subreddit.member_count)"
   ]
  },
  {
   "cell_type": "code",
   "execution_count": null,
   "id": "530e51d2",
   "metadata": {},
   "outputs": [],
   "source": [
    "community_data = [x.model_dump() for x in results['structured_response'].communitites]\n",
    "for data in community_data:\n",
    "    url = data.pop(\"url\")\n",
    "    print(data)\n",
    "    RedditCommunity.objects.update_or_create(url = url, defaults=data)"
   ]
  },
  {
   "cell_type": "code",
   "execution_count": null,
   "id": "d501d6f6",
   "metadata": {},
   "outputs": [],
   "source": []
  },
  {
   "cell_type": "code",
   "execution_count": null,
   "id": "4a171f4e",
   "metadata": {},
   "outputs": [],
   "source": []
  }
 ],
 "metadata": {
  "kernelspec": {
   "display_name": "reddit_env",
   "language": "python",
   "name": "python3"
  },
  "language_info": {
   "codemirror_mode": {
    "name": "ipython",
    "version": 3
   },
   "file_extension": ".py",
   "mimetype": "text/x-python",
   "name": "python",
   "nbconvert_exporter": "python",
   "pygments_lexer": "ipython3",
   "version": "3.11.9"
  }
 },
 "nbformat": 4,
 "nbformat_minor": 5
}
