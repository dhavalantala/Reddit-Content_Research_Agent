{
 "cells": [
  {
   "cell_type": "code",
   "execution_count": null,
   "id": "9409afad",
   "metadata": {},
   "outputs": [],
   "source": [
    "import setup\n",
    "\n",
    "setup.init()"
   ]
  },
  {
   "cell_type": "code",
   "execution_count": null,
   "id": "9b07ba08",
   "metadata": {},
   "outputs": [],
   "source": [
    "from reddit.models import RedditCommunity\n",
    "import ai"
   ]
  },
  {
   "cell_type": "code",
   "execution_count": null,
   "id": "c00915d5",
   "metadata": {},
   "outputs": [],
   "source": [
    "query = \"I really like skiing\""
   ]
  },
  {
   "cell_type": "code",
   "execution_count": null,
   "id": "16596b5e",
   "metadata": {},
   "outputs": [],
   "source": [
    "topics = ai.extract_topics_agent(query)\n",
    "topic_names = \", \".join([x.get('name') for x in topics])\n",
    "topic_names"
   ]
  },
  {
   "cell_type": "code",
   "execution_count": null,
   "id": "d8607894",
   "metadata": {},
   "outputs": [],
   "source": [
    "communitiy_data = ai.perform_get_reddit_communites(topic_names)\n",
    "for community in communitiy_data:\n",
    "    url = community.pop(\"url\")\n",
    "    print(community)\n",
    "    RedditCommunity.objects.update_or_create(\n",
    "        url = url,\n",
    "        defaults = community\n",
    "    )"
   ]
  },
  {
   "cell_type": "code",
   "execution_count": null,
   "id": "e23cabec",
   "metadata": {},
   "outputs": [],
   "source": []
  }
 ],
 "metadata": {
  "kernelspec": {
   "display_name": "reddit_env",
   "language": "python",
   "name": "python3"
  },
  "language_info": {
   "codemirror_mode": {
    "name": "ipython",
    "version": 3
   },
   "file_extension": ".py",
   "mimetype": "text/x-python",
   "name": "python",
   "nbconvert_exporter": "python",
   "pygments_lexer": "ipython3",
   "version": "3.11.9"
  }
 },
 "nbformat": 4,
 "nbformat_minor": 5
}
