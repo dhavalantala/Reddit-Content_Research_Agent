{
 "cells": [
  {
   "cell_type": "code",
   "execution_count": null,
   "id": "9409afad",
   "metadata": {},
   "outputs": [],
   "source": [
    "import setup\n",
    "\n",
    "setup.init()"
   ]
  },
  {
   "cell_type": "code",
   "execution_count": null,
   "id": "e5321db5",
   "metadata": {},
   "outputs": [],
   "source": [
    "from snapshots.tasks import perform_reddit_scrape_task"
   ]
  },
  {
   "cell_type": "code",
   "execution_count": null,
   "id": "9b07ba08",
   "metadata": {},
   "outputs": [],
   "source": [
    "from reddit.models import RedditCommunity\n",
    "import ai\n",
    "import helpers.bd\n",
    "# from queries import services as query_db_serivces\n",
    "from snapshots.tasks import perform_reddit_scrape_task"
   ]
  },
  {
   "cell_type": "code",
   "execution_count": null,
   "id": "c00915d5",
   "metadata": {},
   "outputs": [],
   "source": [
    "query = \"Automation and N8N make.com and zapier.com\""
   ]
  },
  {
   "cell_type": "code",
   "execution_count": null,
   "id": "edfd8d06",
   "metadata": {},
   "outputs": [],
   "source": [
    "ai.extract_topics_agent(query)"
   ]
  },
  {
   "cell_type": "code",
   "execution_count": null,
   "id": "16596b5e",
   "metadata": {},
   "outputs": [],
   "source": [
    "topics = ai.extract_topics_agent(query)\n",
    "topic_names = \", \".join([x.get('name') for x in topics])\n",
    "topic_names"
   ]
  },
  {
   "cell_type": "code",
   "execution_count": null,
   "id": "d8607894",
   "metadata": {},
   "outputs": [],
   "source": [
    "for x in topics:\n",
    "    topic_name = x.get('name')\n",
    "    print(f\"Researching {topic_name}\")\n",
    "    communitiy_data = ai.perform_get_reddit_communites(topic_names)\n",
    "    for community in communitiy_data:\n",
    "        url = community.pop(\"url\")\n",
    "        print(community)\n",
    "        instance, created = RedditCommunity.objects.update_or_create(\n",
    "            url = url,\n",
    "            defaults = community\n",
    "        )\n",
    "\n",
    "        # if created:\n",
    "        #     for sort_by in helpers.bd.BRIGHT_DATA_SCRAPE_SORT_OPTIONS:\n",
    "        #         perform_reddit_scrape_task.delay(\n",
    "        #             url, \n",
    "        #             num_of_posts = 5, \n",
    "        #             progress_countdown=300,\n",
    "        #             sort_by_time=sort_by\n",
    "        #        )\n",
    "        # else:\n",
    "        #     perform_reddit_scrape_task.delay(\n",
    "        #         url, \n",
    "        #         num_of_posts = 5, \n",
    "        #         progress_countdown=300,\n",
    "        #         sort_by_time = \"This Week\"\n",
    "        #    )\n"
   ]
  },
  {
   "cell_type": "code",
   "execution_count": null,
   "id": "e23cabec",
   "metadata": {},
   "outputs": [],
   "source": []
  }
 ],
 "metadata": {
  "kernelspec": {
   "display_name": "reddit_env",
   "language": "python",
   "name": "python3"
  },
  "language_info": {
   "codemirror_mode": {
    "name": "ipython",
    "version": 3
   },
   "file_extension": ".py",
   "mimetype": "text/x-python",
   "name": "python",
   "nbconvert_exporter": "python",
   "pygments_lexer": "ipython3",
   "version": "3.11.9"
  }
 },
 "nbformat": 4,
 "nbformat_minor": 5
}
