{
 "cells": [
  {
   "cell_type": "code",
   "execution_count": 1,
   "id": "086e0023",
   "metadata": {},
   "outputs": [
    {
     "name": "stderr",
     "output_type": "stream",
     "text": [
      "/Users/dhavalantala/Desktop/Reddit-Content_Research_Agent/reddit_env/lib/python3.11/site-packages/django_qstash/client.py:29: RuntimeWarning: \n",
      "\n",
      "\u001b[93mUsing https://qstash.upstash.io as your QStash URL.                 \n",
      "This configuration should only be used in development.\n",
      "\u001b[0m\n",
      "  qstash_client = init_qstash()\n"
     ]
    }
   ],
   "source": [
    "import setup \n",
    "\n",
    "setup.init()"
   ]
  },
  {
   "cell_type": "code",
   "execution_count": 2,
   "id": "19279621",
   "metadata": {},
   "outputs": [],
   "source": [
    "from snapshots.models import BrightDataSnapshot\n",
    "from snapshots.tasks import perform_reddit_scrape_task, get_snapshot_instance_progress_task\n",
    "import helpers.bd"
   ]
  },
  {
   "cell_type": "code",
   "execution_count": 3,
   "id": "87686fe8",
   "metadata": {},
   "outputs": [],
   "source": [
    "from reddit.models import RedditCommunity"
   ]
  },
  {
   "cell_type": "code",
   "execution_count": 5,
   "id": "7b15671b",
   "metadata": {},
   "outputs": [
    {
     "data": {
      "text/plain": [
       "'https://www.reddit.com/r/django/'"
      ]
     },
     "execution_count": 5,
     "metadata": {},
     "output_type": "execute_result"
    }
   ],
   "source": [
    "qs = RedditCommunity.objects.filter(active = True).order_by(\"?\").first()\n",
    "qs.url"
   ]
  },
  {
   "cell_type": "code",
   "execution_count": 6,
   "id": "4029a25a",
   "metadata": {},
   "outputs": [],
   "source": [
    "url = f\"{qs.url}\""
   ]
  },
  {
   "cell_type": "code",
   "execution_count": 7,
   "id": "a614c903",
   "metadata": {},
   "outputs": [
    {
     "data": {
      "text/plain": [
       "'s_mh3rtjsbwgy07jzi7'"
      ]
     },
     "execution_count": 7,
     "metadata": {},
     "output_type": "execute_result"
    }
   ],
   "source": [
    "perform_reddit_scrape_task(url, progress_countdown = 10)"
   ]
  },
  {
   "cell_type": "code",
   "execution_count": 8,
   "id": "2e16d312",
   "metadata": {},
   "outputs": [
    {
     "data": {
      "text/plain": [
       "<BrightDataSnapshot: BrightDataSnapshot object (15)>"
      ]
     },
     "execution_count": 8,
     "metadata": {},
     "output_type": "execute_result"
    }
   ],
   "source": [
    "obj = BrightDataSnapshot.objects.order_by('-id').first()\n",
    "obj"
   ]
  },
  {
   "cell_type": "code",
   "execution_count": null,
   "id": "8100e17c",
   "metadata": {},
   "outputs": [],
   "source": []
  }
 ],
 "metadata": {
  "kernelspec": {
   "display_name": "reddit_env",
   "language": "python",
   "name": "python3"
  },
  "language_info": {
   "codemirror_mode": {
    "name": "ipython",
    "version": 3
   },
   "file_extension": ".py",
   "mimetype": "text/x-python",
   "name": "python",
   "nbconvert_exporter": "python",
   "pygments_lexer": "ipython3",
   "version": "3.11.9"
  }
 },
 "nbformat": 4,
 "nbformat_minor": 5
}
